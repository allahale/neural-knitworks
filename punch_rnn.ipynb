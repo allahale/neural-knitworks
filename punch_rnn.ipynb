{
 "cells": [
  {
   "cell_type": "code",
   "execution_count": 1,
   "metadata": {},
   "outputs": [],
   "source": [
    "import numpy as np"
   ]
  },
  {
   "cell_type": "code",
   "execution_count": 2,
   "metadata": {},
   "outputs": [],
   "source": [
    "data_dict = np.load('russian punch cards/processed_arrays.npy')"
   ]
  },
  {
   "cell_type": "code",
   "execution_count": 3,
   "metadata": {},
   "outputs": [],
   "source": [
    "data_list = list(data_dict[()].values())"
   ]
  },
  {
   "cell_type": "code",
   "execution_count": 4,
   "metadata": {},
   "outputs": [],
   "source": [
    "data_unfolded = [np.ravel(d,order='C').astype(np.uint8) for d in data_list if d.shape[1]==24]"
   ]
  },
  {
   "cell_type": "code",
   "execution_count": 183,
   "metadata": {},
   "outputs": [
    {
     "data": {
      "text/plain": [
       "0.58386218887762731"
      ]
     },
     "execution_count": 183,
     "metadata": {},
     "output_type": "execute_result"
    }
   ],
   "source": [
    "sum([np.mean(d) for d in data_list])/len(data_list)"
   ]
  },
  {
   "cell_type": "code",
   "execution_count": 5,
   "metadata": {},
   "outputs": [],
   "source": [
    "l = [d.shape[0] for d in data_unfolded]"
   ]
  },
  {
   "cell_type": "code",
   "execution_count": 6,
   "metadata": {},
   "outputs": [
    {
     "data": {
      "image/png": "[encoded data removed]",
      "text/plain": [
       "<matplotlib.figure.Figure at 0x110036eb8>"
      ]
     },
     "metadata": {},
     "output_type": "display_data"
    }
   ],
   "source": [
    "%matplotlib inline\n",
    "import matplotlib.pyplot as plt\n",
    "_ = plt.hist(l,bins=100)"
   ]
  },
  {
   "cell_type": "code",
   "execution_count": 7,
   "metadata": {},
   "outputs": [
    {
     "name": "stderr",
     "output_type": "stream",
     "text": [
      "Using TensorFlow backend.\n"
     ]
    }
   ],
   "source": [
    "from keras.preprocessing.sequence import pad_sequences\n",
    "MAX_LEN = 1500\n",
    "\n",
    "pad = pad_sequences(data_unfolded, maxlen=MAX_LEN, dtype=np.uint8, value=2,\n",
    "                   padding='post', truncating='post')"
   ]
  },
  {
   "cell_type": "code",
   "execution_count": 8,
   "metadata": {},
   "outputs": [],
   "source": [
    "from keras.utils import to_categorical\n",
    "pad_c = np.array([to_categorical(seq,num_classes=3) for seq in pad])"
   ]
  },
  {
   "cell_type": "code",
   "execution_count": 9,
   "metadata": {},
   "outputs": [],
   "source": [
    "from sklearn.model_selection import train_test_split\n",
    "\n",
    "X_train, X_test, y_train, y_test = train_test_split(pad[:,:-1],pad[:,1:],test_size = 0.2)"
   ]
  },
  {
   "cell_type": "code",
   "execution_count": 10,
   "metadata": {},
   "outputs": [],
   "source": [
    "from keras import Input\n",
    "from keras.models import Sequential, Model\n",
    "from keras.layers import Dense, Dropout, BatchNormalization\n",
    "from keras.layers import LSTM, TimeDistributed\n",
    "\n",
    "\n",
    "\n",
    "# inp = Input((None,3))\n",
    "# x = BatchNormalization()(inp)\n",
    "# x = Dropout(.5)(x)\n",
    "# rnn = LSTM(128, activation='relu')(x)\n",
    "# output = Dense(1, activation='softmax')(rnn)\n",
    "\n",
    "model = Sequential([\n",
    "    LSTM(128, activation='tanh', dropout=0.5, input_shape=(None,3), return_sequences=True),\n",
    "    TimeDistributed(Dense(3, activation='softmax'))\n",
    "])\n",
    "\n",
    "# try using different optimizers and different optimizer configs\n",
    "model.compile(loss='categorical_crossentropy',\n",
    "              optimizer='adam',\n",
    "              metrics=['accuracy'])"
   ]
  },
  {
   "cell_type": "code",
   "execution_count": 16,
   "metadata": {},
   "outputs": [
    {
     "name": "stdout",
     "output_type": "stream",
     "text": [
      "Train on 3000 samples, validate on 751 samples\n",
      "Epoch 1/10\n",
      "3000/3000 [==============================] - 337s - loss: 0.6117 - acc: 0.7095 - val_loss: 0.4233 - val_acc: 0.7849\n",
      "Epoch 2/10\n",
      "3000/3000 [==============================] - 345s - loss: 0.4850 - acc: 0.7431 - val_loss: 0.3819 - val_acc: 0.7959\n",
      "Epoch 3/10\n",
      "3000/3000 [==============================] - 368s - loss: 0.4234 - acc: 0.7706 - val_loss: 0.3733 - val_acc: 0.7964\n",
      "Epoch 4/10\n",
      "3000/3000 [==============================] - 338s - loss: 0.4031 - acc: 0.7826 - val_loss: 0.3689 - val_acc: 0.8009\n",
      "Epoch 5/10\n",
      "3000/3000 [==============================] - 340s - loss: 0.4138 - acc: 0.7820 - val_loss: 0.3813 - val_acc: 0.7848\n",
      "Epoch 6/10\n",
      "3000/3000 [==============================] - 338s - loss: 0.4041 - acc: 0.7863 - val_loss: 0.3667 - val_acc: 0.7972\n",
      "Epoch 7/10\n",
      "3000/3000 [==============================] - 337s - loss: 0.4127 - acc: 0.7813 - val_loss: 0.3775 - val_acc: 0.8028\n",
      "Epoch 8/10\n",
      "3000/3000 [==============================] - 325s - loss: 0.3999 - acc: 0.7893 - val_loss: 0.3753 - val_acc: 0.7912\n",
      "Epoch 9/10\n",
      "3000/3000 [==============================] - 323s - loss: 0.4038 - acc: 0.7861 - val_loss: 0.3730 - val_acc: 0.7878\n",
      "Epoch 10/10\n",
      "3000/3000 [==============================] - 337s - loss: 0.3945 - acc: 0.7904 - val_loss: 0.3839 - val_acc: 0.7901\n"
     ]
    }
   ],
   "source": [
    "X = pad_c[:,:-1,:]\n",
    "y = pad_c[:,1:,:]\n",
    "\n",
    "h = model.fit(x=X,y=y,batch_size=32,epochs=10,validation_split=0.2)"
   ]
  },
  {
   "cell_type": "code",
   "execution_count": 74,
   "metadata": {},
   "outputs": [
    {
     "data": {
      "text/plain": [
       "[<matplotlib.lines.Line2D at 0x125bd08d0>]"
      ]
     },
     "execution_count": 74,
     "metadata": {},
     "output_type": "execute_result"
    },
    {
     "data": {
      "image/png": "[encoded data removed]",
      "text/plain": [
       "<matplotlib.figure.Figure at 0x1253ec4a8>"
      ]
     },
     "metadata": {},
     "output_type": "display_data"
    }
   ],
   "source": [
    "plt.plot(h.history['acc'])\n",
    "plt.plot(h.history['val_acc'])"
   ]
  },
  {
   "cell_type": "code",
   "execution_count": 39,
   "metadata": {},
   "outputs": [
    {
     "data": {
      "text/plain": [
       "(1, 48)"
      ]
     },
     "execution_count": 39,
     "metadata": {},
     "output_type": "execute_result"
    }
   ],
   "source": [
    "np.argmax(model.predict(X[[0],:48,:]),axis=2)"
   ]
  },
  {
   "cell_type": "code",
   "execution_count": 36,
   "metadata": {},
   "outputs": [
    {
     "data": {
      "text/plain": [
       "array([[1, 1, 1, 1, 1, 1, 1, 1, 0, 0, 0, 1, 1, 1, 1, 1, 1, 1, 1, 1, 1, 1,\n",
       "        1, 1, 1, 1, 1, 1, 1, 1, 0, 0, 0, 0, 0, 1, 1, 1, 1, 1, 1, 1, 1, 1,\n",
       "        1, 1, 1, 1]])"
      ]
     },
     "execution_count": 36,
     "metadata": {},
     "output_type": "execute_result"
    }
   ],
   "source": [
    "np.argmax(X[[0],:48,:],axis=2)"
   ]
  },
  {
   "cell_type": "code",
   "execution_count": 44,
   "metadata": {},
   "outputs": [],
   "source": [
    "from PIL import Image\n",
    "\n",
    "def plot_pattern(arr):\n",
    "    arr = np.argmax(arr,axis=1)\n",
    "    img = np.reshape(arr,(-1,24))\n",
    "    return Image.fromarray(img.astype(np.uint8)*255).resize((img.shape[1]*13,img.shape[0]*13))"
   ]
  },
  {
   "cell_type": "code",
   "execution_count": 146,
   "metadata": {},
   "outputs": [],
   "source": [
    "def sample(preds, temperature=1.0):\n",
    "    # helper function to sample an index from a probability array (from Keras library)\n",
    "    preds = np.asarray(preds).astype('float64')\n",
    "    preds = np.log(preds + 1e-8) / temperature  # Taking the log should be optional? add fudge factor to avoid log(0)\n",
    "    exp_preds = np.exp(preds)\n",
    "    preds = exp_preds / np.sum(exp_preds)\n",
    "    probas = np.random.multinomial(1, preds, 1)\n",
    "    return np.argmax(probas)\n"
   ]
  },
  {
   "cell_type": "code",
   "execution_count": 161,
   "metadata": {},
   "outputs": [],
   "source": [
    "def gen_predictions(seed, max_len, temp):\n",
    "    output = seed\n",
    "    for i in range(max_len-seed.shape[1]):\n",
    "        pred = model.predict(output)\n",
    "        next_stitch_idx = sample(np.squeeze(pred[:,-1,:]),temp)\n",
    "        next_stitch = np.zeros(3)\n",
    "        next_stitch[next_stitch_idx] = 1.0\n",
    "        output = np.append(output,next_stitch[None,None,:],axis=1)\n",
    "    return output"
   ]
  },
  {
   "cell_type": "code",
   "execution_count": 170,
   "metadata": {},
   "outputs": [],
   "source": [
    "seed = pad_c[None,np.random.randint(pad_c.shape[0]),:96,:]"
   ]
  },
  {
   "cell_type": "code",
   "execution_count": 178,
   "metadata": {},
   "outputs": [
    {
     "data": {
      "image/png": "[encoded data removed]",
      "text/plain": [
       "<PIL.Image.Image image mode=L size=312x312 at 0x12F3D6D30>"
      ]
     },
     "execution_count": 178,
     "metadata": {},
     "output_type": "execute_result"
    }
   ],
   "source": [
    "p = gen_predictions(seed,576,temp=0.8)\n",
    "plot_pattern(np.squeeze(p))"
   ]
  },
  {
   "cell_type": "code",
   "execution_count": 174,
   "metadata": {},
   "outputs": [
    {
     "data": {
      "image/png": "[encoded data removed]",
      "text/plain": [
       "<PIL.Image.Image image mode=L size=312x312 at 0x12F3D6F98>"
      ]
     },
     "execution_count": 174,
     "metadata": {},
     "output_type": "execute_result"
    }
   ],
   "source": [
    "p = gen_predictions(seed,576,temp=0.5)\n",
    "plot_pattern(np.squeeze(p))"
   ]
  },
  {
   "cell_type": "code",
   "execution_count": 175,
   "metadata": {},
   "outputs": [
    {
     "data": {
      "image/png": "[encoded data removed]",
      "text/plain": [
       "<PIL.Image.Image image mode=L size=312x312 at 0x12F3D6048>"
      ]
     },
     "execution_count": 175,
     "metadata": {},
     "output_type": "execute_result"
    }
   ],
   "source": [
    "p = gen_predictions(seed,576,temp=0.2)\n",
    "plot_pattern(np.squeeze(p))"
   ]
  },
  {
   "cell_type": "code",
   "execution_count": 177,
   "metadata": {},
   "outputs": [
    {
     "data": {
      "image/png": "[encoded data removed]",
      "text/plain": [
       "<PIL.Image.Image image mode=L size=312x312 at 0x125BBE4A8>"
      ]
     },
     "execution_count": 177,
     "metadata": {},
     "output_type": "execute_result"
    }
   ],
   "source": [
    "p = gen_predictions(seed,576,temp=0.15)\n",
    "plot_pattern(np.squeeze(p))"
   ]
  },
  {
   "cell_type": "code",
   "execution_count": 176,
   "metadata": {},
   "outputs": [
    {
     "data": {
      "image/png": "[encoded data removed]",
      "text/plain": [
       "<PIL.Image.Image image mode=L size=312x312 at 0x1264ED978>"
      ]
     },
     "execution_count": 176,
     "metadata": {},
     "output_type": "execute_result"
    }
   ],
   "source": [
    "p = gen_predictions(seed,576,temp=0.1)\n",
    "plot_pattern(np.squeeze(p))"
   ]
  },
  {
   "cell_type": "code",
   "execution_count": 106,
   "metadata": {},
   "outputs": [
    {
     "data": {
      "image/png": "[encoded data removed]",
      "text/plain": [
       "<PIL.Image.Image image mode=L size=676x806 at 0x1263FDE48>"
      ]
     },
     "metadata": {},
     "output_type": "display_data"
    }
   ],
   "source": [
    "pattern = pad_c[None,np.random.randint(pad_c.shape[0]),:1488,:]\n",
    "\n",
    "real = plot_pattern(np.squeeze(pattern))\n",
    "fake = plot_pattern(np.squeeze(model.predict(pattern)))\n",
    "\n",
    "new_im = Image.new('L', (real.width*2 + 52, real.height), color=255)\n",
    "\n",
    "offset = 52 + real.width\n",
    "new_im.paste(real, (0,0))\n",
    "new_im.paste(fake, (offset,0))\n",
    "display(new_im)"
   ]
  },
  {
   "cell_type": "code",
   "execution_count": 108,
   "metadata": {},
   "outputs": [
    {
     "data": {
      "text/plain": [
       "array([  2.48319993e-05,   2.96953076e-05,   9.99945521e-01], dtype=float32)"
      ]
     },
     "execution_count": 108,
     "metadata": {},
     "output_type": "execute_result"
    }
   ],
   "source": [
    "np.squeeze(model.predict(pattern))[-1]"
   ]
  },
  {
   "cell_type": "code",
   "execution_count": 55,
   "metadata": {},
   "outputs": [
    {
     "data": {
      "text/plain": [
       "(1, 1488, 3)"
      ]
     },
     "execution_count": 55,
     "metadata": {},
     "output_type": "execute_result"
    }
   ],
   "source": [
    "pad_c[None,2,:1488,:].shape"
   ]
  },
  {
   "cell_type": "code",
   "execution_count": null,
   "metadata": {},
   "outputs": [],
   "source": []
  }
 ],
 "metadata": {
  "kernelspec": {
   "display_name": "Python 3",
   "language": "python",
   "name": "python3"
  },
  "language_info": {
   "codemirror_mode": {
    "name": "ipython",
    "version": 3
   },
   "file_extension": ".py",
   "mimetype": "text/x-python",
   "name": "python",
   "nbconvert_exporter": "python",
   "pygments_lexer": "ipython3",
   "version": "3.6.1"
  }
 },
 "nbformat": 4,
 "nbformat_minor": 2
}
