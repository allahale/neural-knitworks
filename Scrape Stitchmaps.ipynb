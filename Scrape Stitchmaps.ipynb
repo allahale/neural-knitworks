{
 "cells": [
  {
   "cell_type": "code",
   "execution_count": 4,
   "metadata": {},
   "outputs": [],
   "source": [
    "import requests\n",
    "import re\n",
    "from bs4 import BeautifulSoup"
   ]
  },
  {
   "cell_type": "code",
   "execution_count": 28,
   "metadata": {},
   "outputs": [],
   "source": [
    "display = 'https://stitch-maps.com/patterns/?page='"
   ]
  },
  {
   "cell_type": "code",
   "execution_count": 29,
   "metadata": {},
   "outputs": [],
   "source": [
    "r = requests.get(display+str(1))"
   ]
  },
  {
   "cell_type": "code",
   "execution_count": 39,
   "metadata": {},
   "outputs": [],
   "source": [
    "import re\n",
    "m = re.compile('/patterns/display/.+?/')\n",
    "patterns = []\n",
    "for i in range(408):\n",
    "    r = requests.get(display+str(i+1))\n",
    "    l = re.findall(m,r.text)\n",
    "    patterns += l[::2]"
   ]
  },
  {
   "cell_type": "code",
   "execution_count": 41,
   "metadata": {},
   "outputs": [
    {
     "data": {
      "text/plain": [
       "4895"
      ]
     },
     "execution_count": 41,
     "metadata": {},
     "output_type": "execute_result"
    }
   ],
   "source": [
    "len(patterns)"
   ]
  },
  {
   "cell_type": "code",
   "execution_count": 45,
   "metadata": {},
   "outputs": [
    {
     "data": {
      "text/plain": [
       "'michaela'"
      ]
     },
     "execution_count": 45,
     "metadata": {},
     "output_type": "execute_result"
    }
   ],
   "source": [
    "patterns[0].split('/')[-2]"
   ]
  },
  {
   "cell_type": "code",
   "execution_count": 51,
   "metadata": {},
   "outputs": [],
   "source": [
    "url = 'https://stitch-maps.com'\n",
    "save = 'stitchmaps/'\n",
    "for p in patterns:\n",
    "    r = requests.get(url+p)\n",
    "    bs = BeautifulSoup(r.text,'lxml')\n",
    "    inst = bs.find('ul',attrs={'class':\"list-unstyled instr\"})\n",
    "    name = p.split('/')[-2]\n",
    "    with open(save+name+'.txt','w') as f:\n",
    "        f.write(inst.text.strip())"
   ]
  },
  {
   "cell_type": "code",
   "execution_count": 48,
   "metadata": {},
   "outputs": [
    {
     "data": {
      "text/plain": [
       "'Row 0 (WS): CO 22 sts (22 sts).\\nRow 1: K1, incR, k3, w&t (5 sts).\\nRow 2: P5.\\nRow 3: K1, incL, k3, incR, k3, w&t (9 sts).\\nRow 4: P9.\\nRow 5: K2, incL, k3, incR, k3, incR, k3, w&t (14 sts).\\nRow 6: P14.\\nRow 7: K3, incL, k3, incR, k3, incR, k8, w&t (20 sts).\\nRow 8: P20.\\nRow 9: K4, incL, k3, incR, k3, incR, k13, w&t (26 sts).\\nRow 10: P26.\\nRow 11: K5, incL, k3, incR, k3, incR, k19, w&t (33 sts).\\nRow 12: P33.\\nRow 13: K6, incL, k3, incR, k3, incR, k25, CO 28 sts (68 sts).\\nRow 14: P1, incR, p3, w&t (5 sts).\\nRow 15: K1, incL, k3, incR, k1 (7 sts).\\nRow 16: P9, w&t (9 sts).\\nRow 17: K1, incL, k3, incL, k3, incR, k2 (12 sts).\\nRow 18: P14, w&t (14 sts).\\nRow 19: K5, incL, k3, incL, k3, incR, k3 (17 sts).\\nRow 20: P20, w&t (20 sts).\\nRow 21: K10, incL, k3, incL, k3, incR, k4 (23 sts).\\nRow 22: P26, w&t (26 sts).\\nRow 23: K15, incL, k3, incL, k3, incR, k5 (29 sts).\\nRow 24: P33, w&t (33 sts).\\nRow 25: K21, incL, k3, incL, k3, incR, k6 (36 sts).\\nRow 26: P86 (86 sts).\\nRow 27: K4, incL, k3, incL, k3, incR, k3, incR, k60, incL, k3, incL, k3, incR, k3, incR, k4 (94 sts).\\nRows 28 and 30: Purl.\\nRow 29: K1, incL, k5, incL, k3, incL, k3, incR, k3, incR, k64, incL, k3, incL, k3, incR, k3, incR, k5, incR, k1 (104 sts).\\nRow 31: K1, incL, k8, incL, k3, incL, k3, incR, k3, incR, k68, incL, k3, incL, k3, incR, k3, incR, k8, incR, k1 (114 sts).'"
      ]
     },
     "execution_count": 48,
     "metadata": {},
     "output_type": "execute_result"
    }
   ],
   "source": [
    "inst.text.strip()"
   ]
  },
  {
   "cell_type": "code",
   "execution_count": 26,
   "metadata": {},
   "outputs": [],
   "source": [
    "inst = p.find('ul',attrs={'class':\"list-unstyled instr\"})"
   ]
  },
  {
   "cell_type": "code",
   "execution_count": 49,
   "metadata": {},
   "outputs": [
    {
     "data": {
      "text/plain": [
       "'\\nRow 0 (WS): CO 22 sts (22 sts).\\nRow 1: K1, incR, k3, w&t (5 sts).\\nRow 2: P5.\\nRow 3: K1, incL, k3, incR, k3, w&t (9 sts).\\nRow 4: P9.\\nRow 5: K2, incL, k3, incR, k3, incR, k3, w&t (14 sts).\\nRow 6: P14.\\nRow 7: K3, incL, k3, incR, k3, incR, k8, w&t (20 sts).\\nRow 8: P20.\\nRow 9: K4, incL, k3, incR, k3, incR, k13, w&t (26 sts).\\nRow 10: P26.\\nRow 11: K5, incL, k3, incR, k3, incR, k19, w&t (33 sts).\\nRow 12: P33.\\nRow 13: K6, incL, k3, incR, k3, incR, k25, CO 28 sts (68 sts).\\nRow 14: P1, incR, p3, w&t (5 sts).\\nRow 15: K1, incL, k3, incR, k1 (7 sts).\\nRow 16: P9, w&t (9 sts).\\nRow 17: K1, incL, k3, incL, k3, incR, k2 (12 sts).\\nRow 18: P14, w&t (14 sts).\\nRow 19: K5, incL, k3, incL, k3, incR, k3 (17 sts).\\nRow 20: P20, w&t (20 sts).\\nRow 21: K10, incL, k3, incL, k3, incR, k4 (23 sts).\\nRow 22: P26, w&t (26 sts).\\nRow 23: K15, incL, k3, incL, k3, incR, k5 (29 sts).\\nRow 24: P33, w&t (33 sts).\\nRow 25: K21, incL, k3, incL, k3, incR, k6 (36 sts).\\nRow 26: P86 (86 sts).\\nRow 27: K4, incL, k3, incL, k3, incR, k3, incR, k60, incL, k3, incL, k3, incR, k3, incR, k4 (94 sts).\\nRows 28 and 30: Purl.\\nRow 29: K1, incL, k5, incL, k3, incL, k3, incR, k3, incR, k64, incL, k3, incL, k3, incR, k3, incR, k5, incR, k1 (104 sts).\\nRow 31: K1, incL, k8, incL, k3, incL, k3, incR, k3, incR, k68, incL, k3, incL, k3, incR, k3, incR, k8, incR, k1 (114 sts).\\n'"
      ]
     },
     "execution_count": 49,
     "metadata": {},
     "output_type": "execute_result"
    }
   ],
   "source": [
    "inst.text"
   ]
  },
  {
   "cell_type": "code",
   "execution_count": 36,
   "metadata": {},
   "outputs": [
    {
     "data": {
      "text/plain": [
       "[0, 1, 2, 3, 4, 5, 6, 7, 8, 9]"
      ]
     },
     "execution_count": 36,
     "metadata": {},
     "output_type": "execute_result"
    }
   ],
   "source": [
    "list(range(10))"
   ]
  },
  {
   "cell_type": "code",
   "execution_count": null,
   "metadata": {},
   "outputs": [],
   "source": [
    "asdf\n",
    "asdf\n"
   ]
  }
 ],
 "metadata": {
  "kernelspec": {
   "display_name": "Python 3",
   "language": "python",
   "name": "python3"
  },
  "language_info": {
   "codemirror_mode": {
    "name": "ipython",
    "version": 3
   },
   "file_extension": ".py",
   "mimetype": "text/x-python",
   "name": "python",
   "nbconvert_exporter": "python",
   "pygments_lexer": "ipython3",
   "version": "3.6.1"
  }
 },
 "nbformat": 4,
 "nbformat_minor": 2
}
