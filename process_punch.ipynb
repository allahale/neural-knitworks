{
 "cells": [
  {
   "cell_type": "code",
   "execution_count": 12,
   "metadata": {},
   "outputs": [],
   "source": [
    "import cv2\n",
    "import numpy as np"
   ]
  },
  {
   "cell_type": "code",
   "execution_count": 90,
   "metadata": {},
   "outputs": [],
   "source": [
    "col_s, col_e = (34, 44)\n",
    "row_s, row_e = (6,16)\n",
    "template = np.array([[255,0,255],\n",
    "                    [0,0,0],\n",
    "                    [255,0,255]]).astype(np.uint8)\n",
    "\n",
    "\n",
    "\n",
    "img = cv2.imread('russian punch cards/4823.jpg',cv2.IMREAD_GRAYSCALE)\n",
    "img_col = img[:,col_s:col_e]\n",
    "img_row = img[row_s:row_e,:]\n",
    "c_res = cv2.matchTemplate(img_col,template,cv2.TM_CCOEFF_NORMED)\n",
    "r_res = cv2.matchTemplate(img_row,template,cv2.TM_CCOEFF_NORMED)\n",
    "\n",
    "cols = np.where(c_res >= 0.95)[0][2:-2]\n",
    "rows = np.where(r_res >= 0.95)[1][1:-1]\n",
    "\n",
    "reduced = np.empty((len(cols),len(rows)))\n",
    "for c in range(len(cols)):\n",
    "    for r in range(len(rows)):\n",
    "        reduced[c,r] = img[cols[c]+1,rows[r]+1]\n",
    "        \n",
    "red_bin = reduced > 0"
   ]
  },
  {
   "cell_type": "code",
   "execution_count": 91,
   "metadata": {},
   "outputs": [
    {
     "data": {
      "image/png": "[encoded data removed]",
      "text/plain": [
       "<PIL.Image.Image image mode=L size=312x481 at 0x1123D0CC0>"
      ]
     },
     "execution_count": 91,
     "metadata": {},
     "output_type": "execute_result"
    }
   ],
   "source": [
    "Image.fromarray(red_bin.astype(np.uint8)*255).resize((len(rows)*13,len(cols)*13))"
   ]
  },
  {
   "cell_type": "code",
   "execution_count": null,
   "metadata": {},
   "outputs": [],
   "source": [
    "import glob\n",
    "from tqdm import tqdm\n",
    "import pickle\n",
    "\n",
    "col_s, col_e = (34, 44)\n",
    "row_s, row_e = (6,16)\n",
    "template = np.array([[255,0,255],\n",
    "                    [0,0,0],\n",
    "                    [255,0,255]]).astype(np.uint8)\n",
    "\n",
    "processed_files = {}\n",
    "\n",
    "for file in tqdm(glob.glob('russian punch cards/*.jpg')):\n",
    "    img = cv2.imread(file ,cv2.IMREAD_GRAYSCALE)\n",
    "    img_col = img[:,col_s:col_e]\n",
    "    img_row = img[row_s:row_e,:]\n",
    "    c_res = cv2.matchTemplate(img_col,template,cv2.TM_CCOEFF_NORMED)\n",
    "    r_res = cv2.matchTemplate(img_row,template,cv2.TM_CCOEFF_NORMED)\n",
    "\n",
    "    cols = np.where(c_res >= 0.95)[0][2:-2]\n",
    "    rows = np.where(r_res >= 0.95)[1][1:-1]\n",
    "\n",
    "    reduced = np.empty((len(cols),len(rows)))\n",
    "    for c in range(len(cols)):\n",
    "        for r in range(len(rows)):\n",
    "            reduced[c,r] = img[cols[c]+1,rows[r]+1]\n",
    "\n",
    "    red_bin = reduced > 0\n",
    "    processed_files[file] = red_bin\n",
    "    \n",
    "np.save('russian punch cards/processed_arrays.npy',processed_files)"
   ]
  },
  {
   "cell_type": "code",
   "execution_count": 96,
   "metadata": {},
   "outputs": [],
   "source": [
    "np.save('russian punch cards/processed_arrays.npy',processed_files)"
   ]
  },
  {
   "cell_type": "code",
   "execution_count": null,
   "metadata": {},
   "outputs": [],
   "source": [
    "np.load('russian punch cards/processed_arrays.npy')"
   ]
  },
  {
   "cell_type": "code",
   "execution_count": 46,
   "metadata": {},
   "outputs": [
    {
     "data": {
      "text/plain": [
       "(26,)"
      ]
     },
     "execution_count": 46,
     "metadata": {},
     "output_type": "execute_result"
    }
   ],
   "source": [
    "loc = np.where(r_res >= 0.95)\n",
    "loc[1].shape"
   ]
  },
  {
   "cell_type": "code",
   "execution_count": 39,
   "metadata": {},
   "outputs": [
    {
     "data": {
      "text/plain": [
       "(743, 10)"
      ]
     },
     "execution_count": 39,
     "metadata": {},
     "output_type": "execute_result"
    }
   ],
   "source": [
    "img_col.shape"
   ]
  },
  {
   "cell_type": "code",
   "execution_count": 44,
   "metadata": {},
   "outputs": [
    {
     "data": {
      "image/png": "[encoded data removed]",
      "text/plain": [
       "<PIL.Image.Image image mode=L size=404x10 at 0x111F206A0>"
      ]
     },
     "execution_count": 44,
     "metadata": {},
     "output_type": "execute_result"
    }
   ],
   "source": [
    "from PIL import Image\n",
    "Image.fromarray(img_row)"
   ]
  },
  {
   "cell_type": "code",
   "execution_count": 45,
   "metadata": {},
   "outputs": [
    {
     "data": {
      "text/plain": [
       "(array([ 208,  660,    0, 1290,  476,  104,  372,   80,    0,   26]),\n",
       " array([-0.59761435, -0.43785291, -0.27809148, -0.11833004,  0.04143139,\n",
       "         0.20119283,  0.36095426,  0.5207157 ,  0.68047713,  0.84023857,  1.        ]))"
      ]
     },
     "execution_count": 45,
     "metadata": {},
     "output_type": "execute_result"
    }
   ],
   "source": [
    "np.histogram(r_res)"
   ]
  },
  {
   "cell_type": "code",
   "execution_count": 92,
   "metadata": {},
   "outputs": [
    {
     "name": "stdout",
     "output_type": "stream",
     "text": [
      "Requirement already satisfied: tqdm in /Users/nsteins/anaconda3/lib/python3.6/site-packages\r\n"
     ]
    }
   ],
   "source": [
    "!pip install tqdm"
   ]
  },
  {
   "cell_type": "code",
   "execution_count": null,
   "metadata": {},
   "outputs": [],
   "source": []
  }
 ],
 "metadata": {
  "kernelspec": {
   "display_name": "Python 3",
   "language": "python",
   "name": "python3"
  },
  "language_info": {
   "codemirror_mode": {
    "name": "ipython",
    "version": 3
   },
   "file_extension": ".py",
   "mimetype": "text/x-python",
   "name": "python",
   "nbconvert_exporter": "python",
   "pygments_lexer": "ipython3",
   "version": "3.6.1"
  }
 },
 "nbformat": 4,
 "nbformat_minor": 2
}
